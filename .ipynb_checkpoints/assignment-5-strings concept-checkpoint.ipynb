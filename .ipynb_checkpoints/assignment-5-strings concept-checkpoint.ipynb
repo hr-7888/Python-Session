{
 "cells": [
  {
   "cell_type": "markdown",
   "id": "8dec5f1f",
   "metadata": {},
   "source": [
    "# modify"
   ]
  },
  {
   "cell_type": "markdown",
   "id": "639fb40b",
   "metadata": {},
   "source": [
    "# - strings"
   ]
  },
  {
   "cell_type": "markdown",
   "id": "53b8d1de",
   "metadata": {},
   "source": [
    "- string is a sequencial data type.\n",
    "- it consist sequence of characters.\n",
    "- is denoted by enclosing text within either single quotes (') or double quotes (\"). \n",
    "- if the string is triple quotes(''')   then it is called as doc string.\n",
    "- we can combain strings by using (+) and it is called string concatination.\n"
   ]
  },
  {
   "cell_type": "markdown",
   "id": "ac067c9f",
   "metadata": {},
   "source": [
    "- 1) Reading strings\n"
   ]
  },
  {
   "cell_type": "code",
   "execution_count": 1,
   "id": "825e447c",
   "metadata": {},
   "outputs": [
    {
     "name": "stdout",
     "output_type": "stream",
     "text": [
      "hay how are you\n",
      "welcome\n"
     ]
    }
   ],
   "source": [
    "# what ever we are passing in between single quote ('') or double quotes(\"\") that is called as string\n",
    "# ex-\n",
    "string1='hay how are you'\n",
    "string2=\"welcome\"\n",
    "        \n",
    "print(string1)\n",
    "print(string2)"
   ]
  },
  {
   "cell_type": "code",
   "execution_count": 1,
   "id": "7793af1d",
   "metadata": {},
   "outputs": [
    {
     "data": {
      "text/plain": [
       "str"
      ]
     },
     "execution_count": 1,
     "metadata": {},
     "output_type": "execute_result"
    }
   ],
   "source": [
    "name='bikash'\n",
    "type(name)"
   ]
  },
  {
   "cell_type": "code",
   "execution_count": 47,
   "id": "a9ce8e5f",
   "metadata": {},
   "outputs": [
    {
     "name": "stdout",
     "output_type": "stream",
     "text": [
      "b\n",
      "i\n",
      "k\n",
      "a\n",
      "s\n",
      "h\n"
     ]
    }
   ],
   "source": [
    "for i in name: # here i used as a iteration that ckecks every character in the sequance\n",
    "    print(i)   # i=b i=i i=k i=a i=s i=h\n",
    "               # here i we donoting as a variable using membership operator \n",
    "              # that will iterate every character of name variable\n",
    "              # we can take any variable insted of i\n",
    "             "
   ]
  },
  {
   "cell_type": "code",
   "execution_count": 48,
   "id": "e69d5009",
   "metadata": {},
   "outputs": [
    {
     "data": {
      "text/plain": [
       "True"
      ]
     },
     "execution_count": 48,
     "metadata": {},
     "output_type": "execute_result"
    }
   ],
   "source": [
    "'b' in name # here we are checking a character or a word\n",
    "            # is present in the string the string using membership operator (in)\n",
    "            # in represents that 'a' is a member of name variable or not "
   ]
  },
  {
   "cell_type": "code",
   "execution_count": 49,
   "id": "0c7e4da6",
   "metadata": {},
   "outputs": [
    {
     "data": {
      "text/plain": [
       "False"
      ]
     },
     "execution_count": 49,
     "metadata": {},
     "output_type": "execute_result"
    }
   ],
   "source": [
    "\"B\" in name # we know that python is case sensitive so written false \"B\" is not a member of name"
   ]
  },
  {
   "cell_type": "markdown",
   "id": "c7107f2b",
   "metadata": {},
   "source": [
    "# - 2. Type, len,max,min"
   ]
  },
  {
   "cell_type": "code",
   "execution_count": 2,
   "id": "4586134b",
   "metadata": {},
   "outputs": [
    {
     "name": "stdout",
     "output_type": "stream",
     "text": [
      "<class 'str'>\n",
      "<class 'str'>\n"
     ]
    }
   ],
   "source": [
    "string1='hay how are you'\n",
    "string2=\"welcome\"\n",
    "print(type(string1))\n",
    "print(type(string2))\n",
    "\n",
    "# type is useed to know the data type"
   ]
  },
  {
   "cell_type": "code",
   "execution_count": 22,
   "id": "11efab93",
   "metadata": {},
   "outputs": [
    {
     "name": "stdout",
     "output_type": "stream",
     "text": [
      "15\n",
      "7\n"
     ]
    }
   ],
   "source": [
    "print(len(string1))\n",
    "print(len(string2))\n",
    "\n",
    "# len in used to check the length of the characters inside the string. \n",
    "# When we applied to a string, \n",
    "# it returns the number of characters (including spaces, punctuation, and special characters) in the string."
   ]
  },
  {
   "cell_type": "code",
   "execution_count": 3,
   "id": "b4fa2380",
   "metadata": {},
   "outputs": [
    {
     "name": "stdout",
     "output_type": "stream",
     "text": [
      "a\n"
     ]
    }
   ],
   "source": [
    "name='bikash'\n",
    "\n",
    "print(min(name))\n"
   ]
  },
  {
   "cell_type": "code",
   "execution_count": 4,
   "id": "a8a406f5",
   "metadata": {},
   "outputs": [
    {
     "name": "stdout",
     "output_type": "stream",
     "text": [
      "s\n"
     ]
    }
   ],
   "source": [
    "print(max(name))"
   ]
  },
  {
   "cell_type": "markdown",
   "id": "24fa45a6",
   "metadata": {},
   "source": [
    "- min() and max() function is used to get the minimum value and maximum value of the sequance data types ,such as string.\n",
    "- min() and max() function will work based on ASCII(american standarad code for information interchange) value\n"
   ]
  },
  {
   "cell_type": "code",
   "execution_count": 40,
   "id": "1e5ad576",
   "metadata": {},
   "outputs": [
    {
     "data": {
      "text/plain": [
       "97"
      ]
     },
     "execution_count": 40,
     "metadata": {},
     "output_type": "execute_result"
    }
   ],
   "source": [
    "ord('a')"
   ]
  },
  {
   "cell_type": "code",
   "execution_count": 2,
   "id": "7c9a97ce",
   "metadata": {},
   "outputs": [
    {
     "data": {
      "text/plain": [
       "'0b111'"
      ]
     },
     "execution_count": 2,
     "metadata": {},
     "output_type": "execute_result"
    }
   ],
   "source": [
    "bin(7)"
   ]
  },
  {
   "cell_type": "code",
   "execution_count": null,
   "id": "5fe51f78",
   "metadata": {},
   "outputs": [],
   "source": []
  },
  {
   "cell_type": "code",
   "execution_count": null,
   "id": "36421a6a",
   "metadata": {},
   "outputs": [],
   "source": []
  },
  {
   "cell_type": "code",
   "execution_count": 41,
   "id": "c8d368a3",
   "metadata": {},
   "outputs": [
    {
     "data": {
      "text/plain": [
       "115"
      ]
     },
     "execution_count": 41,
     "metadata": {},
     "output_type": "execute_result"
    }
   ],
   "source": [
    "ord('s')"
   ]
  },
  {
   "cell_type": "markdown",
   "id": "f48b3386",
   "metadata": {},
   "source": [
    "# Doc string---(\"\"\" \"\"\")\n",
    "- in jupyter note book we use markdown to give information about a code. but in other plateforms like\n",
    " -   note pad\n",
    " -   vscode\n",
    " -   pycharm\n",
    "    \n",
    "- we use doc string\n",
    "\n",
    "-ex\n",
    "   - str1='''hai how are you\n",
    "             i am good \n",
    "             i am learning data science'''\n"
   ]
  },
  {
   "cell_type": "code",
   "execution_count": 7,
   "id": "ad1d794a",
   "metadata": {},
   "outputs": [
    {
     "data": {
      "text/plain": [
       "'hai how are you\\n             i am good \\n             i am learning data science'"
      ]
     },
     "execution_count": 7,
     "metadata": {},
     "output_type": "execute_result"
    }
   ],
   "source": [
    "str1='''hai how are you\n",
    "             i am good \n",
    "             i am learning data science'''\n",
    "str1"
   ]
  },
  {
   "cell_type": "code",
   "execution_count": 8,
   "id": "6a56979a",
   "metadata": {},
   "outputs": [],
   "source": [
    "\"\"\"\n",
    "this program about infinite while loop\n",
    "the original password='python'\n",
    "function:\n",
    "      arguments: None\n",
    "      return: None\n",
    "\"\"\"\n",
    "def pwd():\n",
    "    password='python'  \n",
    "    while True:\n",
    "        user_pwd=input(\"enter pwd\")  \n",
    "        if password==user_pwd:\n",
    "            print('you won')\n",
    "            break\n",
    "        else:\n",
    "            print(\"the password is wrong\")\n",
    "    # here the lopp will execute infanite times untill the user not giving the correct password \n"
   ]
  },
  {
   "cell_type": "code",
   "execution_count": 43,
   "id": "393c7ecb",
   "metadata": {},
   "outputs": [
    {
     "name": "stdout",
     "output_type": "stream",
     "text": [
      "enter pwdjjb\n",
      "the password is wrong\n",
      "enter pwdkbf\n",
      "the password is wrong\n",
      "enter pwdscsbhc\n",
      "the password is wrong\n"
     ]
    },
    {
     "ename": "KeyboardInterrupt",
     "evalue": "Interrupted by user",
     "output_type": "error",
     "traceback": [
      "\u001b[1;31m---------------------------------------------------------------------------\u001b[0m",
      "\u001b[1;31mKeyboardInterrupt\u001b[0m                         Traceback (most recent call last)",
      "\u001b[1;32m~\\AppData\\Local\\Temp/ipykernel_11056/1370169541.py\u001b[0m in \u001b[0;36m<module>\u001b[1;34m\u001b[0m\n\u001b[1;32m----> 1\u001b[1;33m \u001b[0mpwd\u001b[0m\u001b[1;33m(\u001b[0m\u001b[1;33m)\u001b[0m\u001b[1;33m\u001b[0m\u001b[1;33m\u001b[0m\u001b[0m\n\u001b[0m",
      "\u001b[1;32m~\\AppData\\Local\\Temp/ipykernel_11056/1444562451.py\u001b[0m in \u001b[0;36mpwd\u001b[1;34m()\u001b[0m\n\u001b[0;32m      9\u001b[0m     \u001b[0mpassword\u001b[0m\u001b[1;33m=\u001b[0m\u001b[1;34m'python'\u001b[0m  \u001b[1;31m# random number  (1,10)\u001b[0m\u001b[1;33m\u001b[0m\u001b[1;33m\u001b[0m\u001b[0m\n\u001b[0;32m     10\u001b[0m     \u001b[1;32mwhile\u001b[0m \u001b[1;32mTrue\u001b[0m\u001b[1;33m:\u001b[0m\u001b[1;33m\u001b[0m\u001b[1;33m\u001b[0m\u001b[0m\n\u001b[1;32m---> 11\u001b[1;33m         \u001b[0muser_pwd\u001b[0m\u001b[1;33m=\u001b[0m\u001b[0minput\u001b[0m\u001b[1;33m(\u001b[0m\u001b[1;34m\"enter pwd\"\u001b[0m\u001b[1;33m)\u001b[0m  \u001b[1;31m# user number= eval(input)\u001b[0m\u001b[1;33m\u001b[0m\u001b[1;33m\u001b[0m\u001b[0m\n\u001b[0m\u001b[0;32m     12\u001b[0m         \u001b[1;32mif\u001b[0m \u001b[0mpassword\u001b[0m\u001b[1;33m==\u001b[0m\u001b[0muser_pwd\u001b[0m\u001b[1;33m:\u001b[0m\u001b[1;33m\u001b[0m\u001b[1;33m\u001b[0m\u001b[0m\n\u001b[0;32m     13\u001b[0m             \u001b[0mprint\u001b[0m\u001b[1;33m(\u001b[0m\u001b[1;34m'you won'\u001b[0m\u001b[1;33m)\u001b[0m\u001b[1;33m\u001b[0m\u001b[1;33m\u001b[0m\u001b[0m\n",
      "\u001b[1;32m~\\anaconda3\\lib\\site-packages\\ipykernel\\kernelbase.py\u001b[0m in \u001b[0;36mraw_input\u001b[1;34m(self, prompt)\u001b[0m\n\u001b[0;32m   1004\u001b[0m                 \u001b[1;34m\"raw_input was called, but this frontend does not support input requests.\"\u001b[0m\u001b[1;33m\u001b[0m\u001b[1;33m\u001b[0m\u001b[0m\n\u001b[0;32m   1005\u001b[0m             )\n\u001b[1;32m-> 1006\u001b[1;33m         return self._input_request(\n\u001b[0m\u001b[0;32m   1007\u001b[0m             \u001b[0mstr\u001b[0m\u001b[1;33m(\u001b[0m\u001b[0mprompt\u001b[0m\u001b[1;33m)\u001b[0m\u001b[1;33m,\u001b[0m\u001b[1;33m\u001b[0m\u001b[1;33m\u001b[0m\u001b[0m\n\u001b[0;32m   1008\u001b[0m             \u001b[0mself\u001b[0m\u001b[1;33m.\u001b[0m\u001b[0m_parent_ident\u001b[0m\u001b[1;33m[\u001b[0m\u001b[1;34m\"shell\"\u001b[0m\u001b[1;33m]\u001b[0m\u001b[1;33m,\u001b[0m\u001b[1;33m\u001b[0m\u001b[1;33m\u001b[0m\u001b[0m\n",
      "\u001b[1;32m~\\anaconda3\\lib\\site-packages\\ipykernel\\kernelbase.py\u001b[0m in \u001b[0;36m_input_request\u001b[1;34m(self, prompt, ident, parent, password)\u001b[0m\n\u001b[0;32m   1049\u001b[0m             \u001b[1;32mexcept\u001b[0m \u001b[0mKeyboardInterrupt\u001b[0m\u001b[1;33m:\u001b[0m\u001b[1;33m\u001b[0m\u001b[1;33m\u001b[0m\u001b[0m\n\u001b[0;32m   1050\u001b[0m                 \u001b[1;31m# re-raise KeyboardInterrupt, to truncate traceback\u001b[0m\u001b[1;33m\u001b[0m\u001b[1;33m\u001b[0m\u001b[0m\n\u001b[1;32m-> 1051\u001b[1;33m                 \u001b[1;32mraise\u001b[0m \u001b[0mKeyboardInterrupt\u001b[0m\u001b[1;33m(\u001b[0m\u001b[1;34m\"Interrupted by user\"\u001b[0m\u001b[1;33m)\u001b[0m \u001b[1;32mfrom\u001b[0m \u001b[1;32mNone\u001b[0m\u001b[1;33m\u001b[0m\u001b[1;33m\u001b[0m\u001b[0m\n\u001b[0m\u001b[0;32m   1052\u001b[0m             \u001b[1;32mexcept\u001b[0m \u001b[0mException\u001b[0m\u001b[1;33m:\u001b[0m\u001b[1;33m\u001b[0m\u001b[1;33m\u001b[0m\u001b[0m\n\u001b[0;32m   1053\u001b[0m                 \u001b[0mself\u001b[0m\u001b[1;33m.\u001b[0m\u001b[0mlog\u001b[0m\u001b[1;33m.\u001b[0m\u001b[0mwarning\u001b[0m\u001b[1;33m(\u001b[0m\u001b[1;34m\"Invalid Message:\"\u001b[0m\u001b[1;33m,\u001b[0m \u001b[0mexc_info\u001b[0m\u001b[1;33m=\u001b[0m\u001b[1;32mTrue\u001b[0m\u001b[1;33m)\u001b[0m\u001b[1;33m\u001b[0m\u001b[1;33m\u001b[0m\u001b[0m\n",
      "\u001b[1;31mKeyboardInterrupt\u001b[0m: Interrupted by user"
     ]
    }
   ],
   "source": [
    "pwd()"
   ]
  },
  {
   "cell_type": "markdown",
   "id": "8003001e",
   "metadata": {},
   "source": [
    "# - 3.string concatination"
   ]
  },
  {
   "cell_type": "code",
   "execution_count": null,
   "id": "916b801b",
   "metadata": {},
   "outputs": [],
   "source": [
    "# combain the string using (+) "
   ]
  },
  {
   "cell_type": "code",
   "execution_count": 44,
   "id": "1673d546",
   "metadata": {},
   "outputs": [
    {
     "data": {
      "text/plain": [
       "'welcomeBikash'"
      ]
     },
     "execution_count": 44,
     "metadata": {},
     "output_type": "execute_result"
    }
   ],
   "source": [
    "str1='welcome'\n",
    "str2='Bikash'\n",
    "str1+str2"
   ]
  },
  {
   "cell_type": "code",
   "execution_count": 45,
   "id": "f5d55706",
   "metadata": {},
   "outputs": [
    {
     "data": {
      "text/plain": [
       "'BikashBikash'"
      ]
     },
     "execution_count": 45,
     "metadata": {},
     "output_type": "execute_result"
    }
   ],
   "source": [
    "# we can't do multiplication in between two strings \n",
    "# but we can do multiplication in between one integret and one string\n",
    "# ex-\n",
    "str2*2"
   ]
  },
  {
   "cell_type": "code",
   "execution_count": 46,
   "id": "99e574f5",
   "metadata": {},
   "outputs": [
    {
     "ename": "TypeError",
     "evalue": "can't multiply sequence by non-int of type 'str'",
     "output_type": "error",
     "traceback": [
      "\u001b[1;31m---------------------------------------------------------------------------\u001b[0m",
      "\u001b[1;31mTypeError\u001b[0m                                 Traceback (most recent call last)",
      "\u001b[1;32m~\\AppData\\Local\\Temp/ipykernel_11056/4199405932.py\u001b[0m in \u001b[0;36m<module>\u001b[1;34m\u001b[0m\n\u001b[1;32m----> 1\u001b[1;33m \u001b[0mstr1\u001b[0m\u001b[1;33m*\u001b[0m\u001b[0mstr2\u001b[0m\u001b[1;33m\u001b[0m\u001b[1;33m\u001b[0m\u001b[0m\n\u001b[0m",
      "\u001b[1;31mTypeError\u001b[0m: can't multiply sequence by non-int of type 'str'"
     ]
    }
   ],
   "source": [
    "str1*str2"
   ]
  },
  {
   "cell_type": "markdown",
   "id": "d9d8ba29",
   "metadata": {},
   "source": [
    "# - 4) Mutability concept\n"
   ]
  },
  {
   "cell_type": "code",
   "execution_count": 50,
   "id": "b77123c9",
   "metadata": {},
   "outputs": [],
   "source": [
    "# python string is immutable based on index"
   ]
  },
  {
   "cell_type": "code",
   "execution_count": 51,
   "id": "92cffa15",
   "metadata": {},
   "outputs": [],
   "source": [
    "name='python'"
   ]
  },
  {
   "cell_type": "code",
   "execution_count": 57,
   "id": "057e2f4e",
   "metadata": {},
   "outputs": [
    {
     "data": {
      "text/plain": [
       "'p'"
      ]
     },
     "execution_count": 57,
     "metadata": {},
     "output_type": "execute_result"
    }
   ],
   "source": [
    "name[0]"
   ]
  },
  {
   "cell_type": "code",
   "execution_count": 58,
   "id": "e3531f3a",
   "metadata": {},
   "outputs": [
    {
     "ename": "TypeError",
     "evalue": "'str' object does not support item assignment",
     "output_type": "error",
     "traceback": [
      "\u001b[1;31m---------------------------------------------------------------------------\u001b[0m",
      "\u001b[1;31mTypeError\u001b[0m                                 Traceback (most recent call last)",
      "\u001b[1;32m~\\AppData\\Local\\Temp/ipykernel_11056/357679317.py\u001b[0m in \u001b[0;36m<module>\u001b[1;34m\u001b[0m\n\u001b[1;32m----> 1\u001b[1;33m \u001b[0mname\u001b[0m\u001b[1;33m[\u001b[0m\u001b[1;36m0\u001b[0m\u001b[1;33m]\u001b[0m\u001b[1;33m=\u001b[0m\u001b[1;34m'P'\u001b[0m\u001b[1;33m\u001b[0m\u001b[1;33m\u001b[0m\u001b[0m\n\u001b[0m",
      "\u001b[1;31mTypeError\u001b[0m: 'str' object does not support item assignment"
     ]
    }
   ],
   "source": [
    "name[0]='P' "
   ]
  },
  {
   "cell_type": "markdown",
   "id": "142ad2f4",
   "metadata": {},
   "source": [
    "# - 5. String index\n",
    "-    index is basically used to know how many characters in the given sequance it will also include letters,symbols,spaces\n",
    "-    index start with zero(0)\n",
    "-    to know the index we will pass the character inside the square bracket [ ] .\n",
    "-    negetive indexing is also posible"
   ]
  },
  {
   "cell_type": "code",
   "execution_count": 63,
   "id": "2889ae2e",
   "metadata": {},
   "outputs": [
    {
     "name": "stdout",
     "output_type": "stream",
     "text": [
      "0 p\n",
      "1 y\n",
      "2 t\n",
      "3 h\n",
      "4 o\n",
      "5 n\n",
      "6  \n"
     ]
    }
   ],
   "source": [
    "name='python '\n",
    "for i in range(len(name)):\n",
    "    print(i,name[i])"
   ]
  },
  {
   "cell_type": "code",
   "execution_count": 65,
   "id": "370b1e64",
   "metadata": {},
   "outputs": [
    {
     "name": "stdout",
     "output_type": "stream",
     "text": [
      "the index: p is 0\n",
      "the index: y is 1\n",
      "the index: t is 2\n",
      "the index: h is 3\n",
      "the index: o is 4\n",
      "the index: n is 5\n",
      "the index:   is 6\n"
     ]
    }
   ],
   "source": [
    "# wap print the index of the given string\n",
    "name='python '\n",
    "for i in range(len(name)):\n",
    "    print(f'the index: {name[i]} is {i}')"
   ]
  },
  {
   "cell_type": "code",
   "execution_count": 67,
   "id": "f97cfde3",
   "metadata": {},
   "outputs": [
    {
     "name": "stdout",
     "output_type": "stream",
     "text": [
      "the index: p is 0\n",
      "the index: y is 1\n",
      "the index: t is 2\n",
      "the index: h is 3\n",
      "the index: o is 4\n",
      "the index: n is 5\n"
     ]
    }
   ],
   "source": [
    "# while loop\n",
    "i=0\n",
    "name2='python'\n",
    "while i<len(name2):\n",
    "    print(f'the index: {name2[i]} is {i}')\n",
    "    i+=1"
   ]
  },
  {
   "cell_type": "markdown",
   "id": "9f102d4c",
   "metadata": {},
   "source": [
    "- Negetive indexing\n"
   ]
  },
  {
   "cell_type": "code",
   "execution_count": 70,
   "id": "5058511c",
   "metadata": {},
   "outputs": [
    {
     "name": "stdout",
     "output_type": "stream",
     "text": [
      "-6\n",
      "-5\n",
      "-4\n",
      "-3\n",
      "-2\n",
      "-1\n"
     ]
    }
   ],
   "source": [
    "name='python'\n",
    "for i in range(len(name)):\n",
    "    print(i-len(name))\n"
   ]
  },
  {
   "cell_type": "code",
   "execution_count": 75,
   "id": "dec52ad9",
   "metadata": {},
   "outputs": [
    {
     "name": "stdout",
     "output_type": "stream",
     "text": [
      "the negetive indexing of :p is -6\n",
      "the negetive indexing of :y is -5\n",
      "the negetive indexing of :t is -4\n",
      "the negetive indexing of :h is -3\n",
      "the negetive indexing of :o is -2\n",
      "the negetive indexing of :n is -1\n"
     ]
    }
   ],
   "source": [
    "try:\n",
    "    for i in range(len(name)):\n",
    "        print(f'the negetive indexing of :{name2[i]} is {i-len(name)}')\n",
    "except exception as e:\n",
    "    print(e)"
   ]
  },
  {
   "cell_type": "code",
   "execution_count": 76,
   "id": "d3d18fda",
   "metadata": {},
   "outputs": [
    {
     "name": "stdout",
     "output_type": "stream",
     "text": [
      "the negetive indexing of :p is -6\n",
      "the negetive indexing of :y is -5\n",
      "the negetive indexing of :t is -4\n",
      "the negetive indexing of :h is -3\n",
      "the negetive indexing of :o is -2\n",
      "the negetive indexing of :n is -1\n"
     ]
    }
   ],
   "source": [
    "try:\n",
    "    for i in range(-len(name),0): \n",
    "        print(f'the negetive indexing of :{name2[i]} is {i}')\n",
    "except exception as e:\n",
    "    print(e)"
   ]
  },
  {
   "cell_type": "code",
   "execution_count": 5,
   "id": "5b199005",
   "metadata": {},
   "outputs": [
    {
     "name": "stdout",
     "output_type": "stream",
     "text": [
      "p -6\n",
      "y -5\n",
      "t -4\n",
      "h -3\n",
      "o -2\n",
      "n -1\n"
     ]
    }
   ],
   "source": [
    "# while loop\n",
    "name='python'\n",
    "\n",
    "i=-len(name)\n",
    "while i<0:\n",
    "    print(name[i],i)\n",
    "    i+=1"
   ]
  },
  {
   "cell_type": "code",
   "execution_count": 87,
   "id": "145f2f02",
   "metadata": {},
   "outputs": [
    {
     "name": "stdout",
     "output_type": "stream",
     "text": [
      "the negetive indexing of :p is -6\n",
      "the negetive indexing of :y is -5\n",
      "the negetive indexing of :t is -4\n",
      "the negetive indexing of :h is -3\n",
      "the negetive indexing of :o is -2\n",
      "the negetive indexing of :n is -1\n"
     ]
    }
   ],
   "source": [
    "name='python'\n",
    "i=-len(name)\n",
    "while i<0:\n",
    "    print(f'the negetive indexing of :{name2[i]} is {i}')\n",
    "    i+=1"
   ]
  },
  {
   "cell_type": "code",
   "execution_count": 88,
   "id": "3ba90b7a",
   "metadata": {},
   "outputs": [
    {
     "name": "stdout",
     "output_type": "stream",
     "text": [
      "the positivr index is: 0 the negetive index is: -6 for p\n",
      "the positivr index is: 1 the negetive index is: -5 for y\n",
      "the positivr index is: 2 the negetive index is: -4 for t\n",
      "the positivr index is: 3 the negetive index is: -3 for h\n",
      "the positivr index is: 4 the negetive index is: -2 for o\n",
      "the positivr index is: 5 the negetive index is: -1 for n\n"
     ]
    }
   ],
   "source": [
    "name='python'\n",
    "for i in range(len(name)):\n",
    "    print('the positivr index is: {} the negetive index is: {} for {}'. format(i,i-len(name),name[i]))"
   ]
  },
  {
   "cell_type": "code",
   "execution_count": 89,
   "id": "2725e63c",
   "metadata": {},
   "outputs": [
    {
     "name": "stdout",
     "output_type": "stream",
     "text": [
      "the positivr index is: -6 the negetive index is: -12 for p\n",
      "the positivr index is: -5 the negetive index is: -11 for y\n",
      "the positivr index is: -4 the negetive index is: -10 for t\n",
      "the positivr index is: -3 the negetive index is: -9 for h\n",
      "the positivr index is: -2 the negetive index is: -8 for o\n",
      "the positivr index is: -1 the negetive index is: -7 for n\n"
     ]
    }
   ],
   "source": [
    "name='python'\n",
    "i=-len(name)\n",
    "while i<0:\n",
    "    print('the positivr index is: {} the negetive index is: {} for {}'. format(,name[i]))\n",
    "    i+=1"
   ]
  },
  {
   "cell_type": "markdown",
   "id": "852bb8f1",
   "metadata": {},
   "source": [
    "# - 6. String slice\n"
   ]
  },
  {
   "cell_type": "markdown",
   "id": "3fc59efa",
   "metadata": {},
   "source": [
    "- slicing is a concept that allowes to extract some portion of characters/ or we can called a range of charactes\n",
    "- syntax: string[start:stop:step]\n",
    "- start by default zero,\n",
    "- stop=stop-1,\n",
    "- step size by default 1\n",
    "- negetive slicing is also posible"
   ]
  },
  {
   "cell_type": "code",
   "execution_count": 5,
   "id": "da872b7a",
   "metadata": {},
   "outputs": [
    {
     "name": "stdout",
     "output_type": "stream",
     "text": [
      "15\n",
      "hey how are you\n"
     ]
    }
   ],
   "source": [
    "string='hey how are you'\n",
    "print(len(string))\n",
    "print(string)"
   ]
  },
  {
   "cell_type": "code",
   "execution_count": 3,
   "id": "49e11eea",
   "metadata": {},
   "outputs": [
    {
     "data": {
      "text/plain": [
       "'hey how are you'"
      ]
     },
     "execution_count": 3,
     "metadata": {},
     "output_type": "execute_result"
    }
   ],
   "source": [
    "string[0:] # if we are not giving any end value then it will continue till end"
   ]
  },
  {
   "cell_type": "code",
   "execution_count": 7,
   "id": "72f5a953",
   "metadata": {},
   "outputs": [
    {
     "data": {
      "text/plain": [
       "'hey how are you'"
      ]
     },
     "execution_count": 7,
     "metadata": {},
     "output_type": "execute_result"
    }
   ],
   "source": [
    "string[:len(string)]"
   ]
  },
  {
   "cell_type": "code",
   "execution_count": 4,
   "id": "b2c369e0",
   "metadata": {},
   "outputs": [
    {
     "data": {
      "text/plain": [
       "'hey how are you'"
      ]
     },
     "execution_count": 4,
     "metadata": {},
     "output_type": "execute_result"
    }
   ],
   "source": [
    "string[:16] # if we not give any start means it will start from zero"
   ]
  },
  {
   "cell_type": "code",
   "execution_count": 8,
   "id": "59568b4e",
   "metadata": {},
   "outputs": [
    {
     "data": {
      "text/plain": [
       "'hey how are you'"
      ]
     },
     "execution_count": 8,
     "metadata": {},
     "output_type": "execute_result"
    }
   ],
   "source": [
    "string[0:18]"
   ]
  },
  {
   "cell_type": "code",
   "execution_count": 5,
   "id": "7cea4c00",
   "metadata": {},
   "outputs": [
    {
     "data": {
      "text/plain": [
       "'hey how are you'"
      ]
     },
     "execution_count": 5,
     "metadata": {},
     "output_type": "execute_result"
    }
   ],
   "source": [
    "string[::]"
   ]
  },
  {
   "cell_type": "code",
   "execution_count": 6,
   "id": "ad68b093",
   "metadata": {},
   "outputs": [
    {
     "data": {
      "text/plain": [
       "'y how a'"
      ]
     },
     "execution_count": 6,
     "metadata": {},
     "output_type": "execute_result"
    }
   ],
   "source": [
    "string[2:9]"
   ]
  },
  {
   "cell_type": "markdown",
   "id": "8186dafb",
   "metadata": {},
   "source": [
    "# - negetive slicing"
   ]
  },
  {
   "cell_type": "code",
   "execution_count": 10,
   "id": "1b9cd836",
   "metadata": {},
   "outputs": [
    {
     "data": {
      "text/plain": [
       "'uoy era w'"
      ]
     },
     "execution_count": 10,
     "metadata": {},
     "output_type": "execute_result"
    }
   ],
   "source": [
    "string[:-10:-1]"
   ]
  },
  {
   "cell_type": "code",
   "execution_count": 11,
   "id": "b12335f2",
   "metadata": {},
   "outputs": [
    {
     "data": {
      "text/plain": [
       "'hey how are y'"
      ]
     },
     "execution_count": 11,
     "metadata": {},
     "output_type": "execute_result"
    }
   ],
   "source": [
    "string[:-2]"
   ]
  },
  {
   "cell_type": "code",
   "execution_count": 14,
   "id": "313b4548",
   "metadata": {},
   "outputs": [
    {
     "data": {
      "text/plain": [
       "'ow are y'"
      ]
     },
     "execution_count": 14,
     "metadata": {},
     "output_type": "execute_result"
    }
   ],
   "source": [
    "string[-10:-2:1]"
   ]
  },
  {
   "cell_type": "code",
   "execution_count": 15,
   "id": "3c752b96",
   "metadata": {},
   "outputs": [
    {
     "data": {
      "text/plain": [
       "''"
      ]
     },
     "execution_count": 15,
     "metadata": {},
     "output_type": "execute_result"
    }
   ],
   "source": [
    "string[-2:-15]"
   ]
  },
  {
   "cell_type": "code",
   "execution_count": 16,
   "id": "326d14e0",
   "metadata": {},
   "outputs": [
    {
     "data": {
      "text/plain": [
       "''"
      ]
     },
     "execution_count": 16,
     "metadata": {},
     "output_type": "execute_result"
    }
   ],
   "source": [
    "string[-2:15:-1]"
   ]
  },
  {
   "cell_type": "markdown",
   "id": "b31133e0",
   "metadata": {},
   "source": [
    "# - 7. String methods\n",
    "\n",
    "- string methods are built in function in python.\n",
    "- string methods are the  tools for text processing.\n",
    "- string methods are used for perform various tasks such as modifying, checking for specific patterns, and extracting information. "
   ]
  },
  {
   "cell_type": "code",
   "execution_count": 19,
   "id": "f6c9aad6",
   "metadata": {},
   "outputs": [
    {
     "data": {
      "text/plain": [
       "['__add__',\n",
       " '__class__',\n",
       " '__contains__',\n",
       " '__delattr__',\n",
       " '__dir__',\n",
       " '__doc__',\n",
       " '__eq__',\n",
       " '__format__',\n",
       " '__ge__',\n",
       " '__getattribute__',\n",
       " '__getitem__',\n",
       " '__getnewargs__',\n",
       " '__gt__',\n",
       " '__hash__',\n",
       " '__init__',\n",
       " '__init_subclass__',\n",
       " '__iter__',\n",
       " '__le__',\n",
       " '__len__',\n",
       " '__lt__',\n",
       " '__mod__',\n",
       " '__mul__',\n",
       " '__ne__',\n",
       " '__new__',\n",
       " '__reduce__',\n",
       " '__reduce_ex__',\n",
       " '__repr__',\n",
       " '__rmod__',\n",
       " '__rmul__',\n",
       " '__setattr__',\n",
       " '__sizeof__',\n",
       " '__str__',\n",
       " '__subclasshook__',\n",
       " 'capitalize',\n",
       " 'casefold',\n",
       " 'center',\n",
       " 'count',\n",
       " 'encode',\n",
       " 'endswith',\n",
       " 'expandtabs',\n",
       " 'find',\n",
       " 'format',\n",
       " 'format_map',\n",
       " 'index',\n",
       " 'isalnum',\n",
       " 'isalpha',\n",
       " 'isascii',\n",
       " 'isdecimal',\n",
       " 'isdigit',\n",
       " 'isidentifier',\n",
       " 'islower',\n",
       " 'isnumeric',\n",
       " 'isprintable',\n",
       " 'isspace',\n",
       " 'istitle',\n",
       " 'isupper',\n",
       " 'join',\n",
       " 'ljust',\n",
       " 'lower',\n",
       " 'lstrip',\n",
       " 'maketrans',\n",
       " 'partition',\n",
       " 'removeprefix',\n",
       " 'removesuffix',\n",
       " 'replace',\n",
       " 'rfind',\n",
       " 'rindex',\n",
       " 'rjust',\n",
       " 'rpartition',\n",
       " 'rsplit',\n",
       " 'rstrip',\n",
       " 'split',\n",
       " 'splitlines',\n",
       " 'startswith',\n",
       " 'strip',\n",
       " 'swapcase',\n",
       " 'title',\n",
       " 'translate',\n",
       " 'upper',\n",
       " 'zfill']"
      ]
     },
     "execution_count": 19,
     "metadata": {},
     "output_type": "execute_result"
    }
   ],
   "source": [
    "dir(str) # dir is used to find the methods present in string"
   ]
  },
  {
   "cell_type": "markdown",
   "id": "3e42b2e3",
   "metadata": {},
   "source": [
    "- Capitalize/Casefold/upper/lower\n",
    "- Index/find\n",
    "- Strip-rstrip-lstrip\n",
    "- Startswith/endswith\n",
    "- Count\n",
    "- Replace"
   ]
  },
  {
   "cell_type": "code",
   "execution_count": 9,
   "id": "395b4b77",
   "metadata": {},
   "outputs": [],
   "source": [
    "str1='welcome to my world'\n",
    "str2='biKasH'"
   ]
  },
  {
   "cell_type": "code",
   "execution_count": 11,
   "id": "1bc13b5f",
   "metadata": {},
   "outputs": [
    {
     "data": {
      "text/plain": [
       "'Welcome to my world'"
      ]
     },
     "execution_count": 11,
     "metadata": {},
     "output_type": "execute_result"
    }
   ],
   "source": [
    "# Capitalize\n",
    "str1.capitalize() # make the first character have upper case and the rest lower case."
   ]
  },
  {
   "cell_type": "code",
   "execution_count": 12,
   "id": "5885c7c7",
   "metadata": {},
   "outputs": [
    {
     "data": {
      "text/plain": [
       "'Bikash'"
      ]
     },
     "execution_count": 12,
     "metadata": {},
     "output_type": "execute_result"
    }
   ],
   "source": [
    "str2.capitalize()"
   ]
  },
  {
   "cell_type": "code",
   "execution_count": 33,
   "id": "30a56bcc",
   "metadata": {},
   "outputs": [],
   "source": [
    "# case fold\n",
    "str1='WelCome TO My woRld'\n",
    "str2='BiKasH'"
   ]
  },
  {
   "cell_type": "code",
   "execution_count": 34,
   "id": "a2c1ca1f",
   "metadata": {},
   "outputs": [
    {
     "data": {
      "text/plain": [
       "'welcome to my world'"
      ]
     },
     "execution_count": 34,
     "metadata": {},
     "output_type": "execute_result"
    }
   ],
   "source": [
    "str1.casefold() # when dealing with user input or data that can vary in case \n",
    "#and when you need to ensure that the comparison is accurate and insensitive to case and specific Unicode characters."
   ]
  },
  {
   "cell_type": "code",
   "execution_count": 36,
   "id": "0686b70b",
   "metadata": {},
   "outputs": [
    {
     "data": {
      "text/plain": [
       "'bikash'"
      ]
     },
     "execution_count": 36,
     "metadata": {},
     "output_type": "execute_result"
    }
   ],
   "source": [
    "str2.casefold()"
   ]
  },
  {
   "cell_type": "code",
   "execution_count": 37,
   "id": "49514e68",
   "metadata": {},
   "outputs": [
    {
     "data": {
      "text/plain": [
       "'wELcOME to mY WOrLD'"
      ]
     },
     "execution_count": 37,
     "metadata": {},
     "output_type": "execute_result"
    }
   ],
   "source": [
    "# swap case\n",
    "str1.swapcase() # Convert uppercase characters to lowercase and lowercase characters to uppercase."
   ]
  },
  {
   "cell_type": "code",
   "execution_count": 39,
   "id": "978d0ab8",
   "metadata": {},
   "outputs": [
    {
     "data": {
      "text/plain": [
       "'WELCOME TO MY WORLD'"
      ]
     },
     "execution_count": 39,
     "metadata": {},
     "output_type": "execute_result"
    }
   ],
   "source": [
    "# upper\n",
    "str1.upper() # it will convert all the charactes as upper case/it will convert all the characters into capital"
   ]
  },
  {
   "cell_type": "code",
   "execution_count": 40,
   "id": "fcd5366e",
   "metadata": {},
   "outputs": [
    {
     "data": {
      "text/plain": [
       "'welcome to my world'"
      ]
     },
     "execution_count": 40,
     "metadata": {},
     "output_type": "execute_result"
    }
   ],
   "source": [
    "# lower\n",
    "str1.lower() # it will convert all the characters as lower case"
   ]
  },
  {
   "cell_type": "markdown",
   "id": "c35e2d79",
   "metadata": {},
   "source": [
    "# - index\n",
    "\n",
    "\n",
    "- the index() method is used to find the index or position of the first occurrence of a specified substring within a string.\n",
    "- It is a way to locate where a particular substring appears in the given string\n",
    "- if the specific substring is not found means it will written substring not found"
   ]
  },
  {
   "cell_type": "code",
   "execution_count": 67,
   "id": "b55b365a",
   "metadata": {},
   "outputs": [
    {
     "data": {
      "text/plain": [
       "1"
      ]
     },
     "execution_count": 67,
     "metadata": {},
     "output_type": "execute_result"
    }
   ],
   "source": [
    "str1='welcome to my world'\n",
    "str1.index('e')"
   ]
  },
  {
   "cell_type": "code",
   "execution_count": 68,
   "id": "27441c02",
   "metadata": {},
   "outputs": [
    {
     "data": {
      "text/plain": [
       "8"
      ]
     },
     "execution_count": 68,
     "metadata": {},
     "output_type": "execute_result"
    }
   ],
   "source": [
    "str1.index('to') # here it will print the index of 't' because index always print the 1st occurance of sub string"
   ]
  },
  {
   "cell_type": "code",
   "execution_count": 69,
   "id": "8ed2618f",
   "metadata": {},
   "outputs": [
    {
     "data": {
      "text/plain": [
       "0"
      ]
     },
     "execution_count": 69,
     "metadata": {},
     "output_type": "execute_result"
    }
   ],
   "source": [
    "str1.index(\"w\")"
   ]
  },
  {
   "cell_type": "code",
   "execution_count": 70,
   "id": "e94f19ab",
   "metadata": {},
   "outputs": [
    {
     "data": {
      "text/plain": [
       "0"
      ]
     },
     "execution_count": 70,
     "metadata": {},
     "output_type": "execute_result"
    }
   ],
   "source": [
    "str1.index('welcome')"
   ]
  },
  {
   "cell_type": "code",
   "execution_count": 47,
   "id": "c9eab530",
   "metadata": {},
   "outputs": [
    {
     "data": {
      "text/plain": [
       "8"
      ]
     },
     "execution_count": 47,
     "metadata": {},
     "output_type": "execute_result"
    }
   ],
   "source": [
    "str1.index('to') # here to is a sub string of str1"
   ]
  },
  {
   "cell_type": "code",
   "execution_count": 14,
   "id": "ef70e4ed",
   "metadata": {},
   "outputs": [
    {
     "name": "stdout",
     "output_type": "stream",
     "text": [
      "welcome to my world\n",
      "19\n"
     ]
    }
   ],
   "source": [
    "print(str1)\n",
    "print(len(str1))"
   ]
  },
  {
   "cell_type": "code",
   "execution_count": null,
   "id": "094172e1",
   "metadata": {},
   "outputs": [],
   "source": [
    "\n",
    "# 0   1   2   3   4  5  6   7   8   9   10   11  12  13   14  15  16  17  18  \n",
    "# w   e   l   c  o  m  e       t   o        m    y         lw   o   r   l   d"
   ]
  },
  {
   "cell_type": "code",
   "execution_count": 76,
   "id": "e905b80a",
   "metadata": {},
   "outputs": [
    {
     "data": {
      "text/plain": [
       "4"
      ]
     },
     "execution_count": 76,
     "metadata": {},
     "output_type": "execute_result"
    }
   ],
   "source": [
    "f_o=str1.index('o')\n",
    "f_o"
   ]
  },
  {
   "cell_type": "code",
   "execution_count": 77,
   "id": "b946fe83",
   "metadata": {},
   "outputs": [
    {
     "data": {
      "text/plain": [
       "4"
      ]
     },
     "execution_count": 77,
     "metadata": {},
     "output_type": "execute_result"
    }
   ],
   "source": [
    " str1.index('o',f_o+1)\n",
    "f_o"
   ]
  },
  {
   "cell_type": "code",
   "execution_count": 79,
   "id": "6d6d351a",
   "metadata": {},
   "outputs": [
    {
     "data": {
      "text/plain": [
       "9"
      ]
     },
     "execution_count": 79,
     "metadata": {},
     "output_type": "execute_result"
    }
   ],
   "source": [
    "s_o=str1.index('o',f_o+1)\n",
    "s_o"
   ]
  },
  {
   "cell_type": "code",
   "execution_count": 81,
   "id": "c354e185",
   "metadata": {},
   "outputs": [
    {
     "data": {
      "text/plain": [
       "15"
      ]
     },
     "execution_count": 81,
     "metadata": {},
     "output_type": "execute_result"
    }
   ],
   "source": [
    "t_o=str1.index('o',s_o+1)\n",
    "t_o"
   ]
  },
  {
   "cell_type": "code",
   "execution_count": 82,
   "id": "e1ae5d87",
   "metadata": {},
   "outputs": [
    {
     "ename": "ValueError",
     "evalue": "substring not found",
     "output_type": "error",
     "traceback": [
      "\u001b[1;31m---------------------------------------------------------------------------\u001b[0m",
      "\u001b[1;31mValueError\u001b[0m                                Traceback (most recent call last)",
      "\u001b[1;32m~\\AppData\\Local\\Temp/ipykernel_6728/2740537849.py\u001b[0m in \u001b[0;36m<module>\u001b[1;34m\u001b[0m\n\u001b[1;32m----> 1\u001b[1;33m \u001b[0mfrt_o\u001b[0m\u001b[1;33m=\u001b[0m\u001b[0mstr1\u001b[0m\u001b[1;33m.\u001b[0m\u001b[0mindex\u001b[0m\u001b[1;33m(\u001b[0m\u001b[1;34m'o'\u001b[0m\u001b[1;33m,\u001b[0m\u001b[0mt_o\u001b[0m\u001b[1;33m+\u001b[0m\u001b[1;36m1\u001b[0m\u001b[1;33m)\u001b[0m\u001b[1;33m\u001b[0m\u001b[1;33m\u001b[0m\u001b[0m\n\u001b[0m",
      "\u001b[1;31mValueError\u001b[0m: substring not found"
     ]
    }
   ],
   "source": [
    "frt_o=str1.index('o',t_o+1)"
   ]
  },
  {
   "cell_type": "markdown",
   "id": "1b1baee9",
   "metadata": {},
   "source": [
    "# - find\n",
    "\n",
    "\n",
    "- find() methode is same index()\n",
    "- if the specific sub string is not found means it will written -1\n",
    "- The find() method in Python is used to find the index or position of the first occurrence of a specified substring within a string.\n"
   ]
  },
  {
   "cell_type": "code",
   "execution_count": 84,
   "id": "7dfe44bb",
   "metadata": {},
   "outputs": [
    {
     "data": {
      "text/plain": [
       "0"
      ]
     },
     "execution_count": 84,
     "metadata": {},
     "output_type": "execute_result"
    }
   ],
   "source": [
    "str1='welcome to my world'\n",
    "str1.find('w')"
   ]
  },
  {
   "cell_type": "code",
   "execution_count": 85,
   "id": "8c3d9ba3",
   "metadata": {},
   "outputs": [
    {
     "data": {
      "text/plain": [
       "0"
      ]
     },
     "execution_count": 85,
     "metadata": {},
     "output_type": "execute_result"
    }
   ],
   "source": [
    "str1.find('welcome')"
   ]
  },
  {
   "cell_type": "code",
   "execution_count": 86,
   "id": "45eafeda",
   "metadata": {},
   "outputs": [
    {
     "data": {
      "text/plain": [
       "5"
      ]
     },
     "execution_count": 86,
     "metadata": {},
     "output_type": "execute_result"
    }
   ],
   "source": [
    "str1.find('m')"
   ]
  },
  {
   "cell_type": "code",
   "execution_count": 87,
   "id": "cae7ebf9",
   "metadata": {},
   "outputs": [
    {
     "data": {
      "text/plain": [
       "-1"
      ]
     },
     "execution_count": 87,
     "metadata": {},
     "output_type": "execute_result"
    }
   ],
   "source": [
    "str1.find('k')"
   ]
  },
  {
   "cell_type": "code",
   "execution_count": 89,
   "id": "1f64fc7b",
   "metadata": {},
   "outputs": [
    {
     "data": {
      "text/plain": [
       "4"
      ]
     },
     "execution_count": 89,
     "metadata": {},
     "output_type": "execute_result"
    }
   ],
   "source": [
    "f_o=str1.find('o')\n",
    "f_o"
   ]
  },
  {
   "cell_type": "code",
   "execution_count": 91,
   "id": "68d0e510",
   "metadata": {},
   "outputs": [
    {
     "data": {
      "text/plain": [
       "9"
      ]
     },
     "execution_count": 91,
     "metadata": {},
     "output_type": "execute_result"
    }
   ],
   "source": [
    "s_o=str1.find('o',f_o+1)\n",
    "s_o"
   ]
  },
  {
   "cell_type": "code",
   "execution_count": 93,
   "id": "4c3bb94b",
   "metadata": {},
   "outputs": [
    {
     "data": {
      "text/plain": [
       "15"
      ]
     },
     "execution_count": 93,
     "metadata": {},
     "output_type": "execute_result"
    }
   ],
   "source": [
    "t_o=str1.find(\"o\",s_o+1)\n",
    "t_o"
   ]
  },
  {
   "cell_type": "code",
   "execution_count": 94,
   "id": "3e70f3dc",
   "metadata": {},
   "outputs": [
    {
     "data": {
      "text/plain": [
       "-1"
      ]
     },
     "execution_count": 94,
     "metadata": {},
     "output_type": "execute_result"
    }
   ],
   "source": [
    "str1.find('o',t_o+1)"
   ]
  },
  {
   "cell_type": "code",
   "execution_count": 99,
   "id": "efbd8c57",
   "metadata": {},
   "outputs": [
    {
     "ename": "SyntaxError",
     "evalue": "invalid syntax (Temp/ipykernel_6728/3593866364.py, line 1)",
     "output_type": "error",
     "traceback": [
      "\u001b[1;36m  File \u001b[1;32m\"C:\\Users\\DELL\\AppData\\Local\\Temp/ipykernel_6728/3593866364.py\"\u001b[1;36m, line \u001b[1;32m1\u001b[0m\n\u001b[1;33m    print(str1.find('o').(str1.find('o')+1))\u001b[0m\n\u001b[1;37m                         ^\u001b[0m\n\u001b[1;31mSyntaxError\u001b[0m\u001b[1;31m:\u001b[0m invalid syntax\n"
     ]
    }
   ],
   "source": []
  },
  {
   "cell_type": "markdown",
   "id": "fbdb7c47",
   "metadata": {},
   "source": [
    "# - Replace\n",
    " \n",
    " \n",
    "- basically replace methode used to replace a substring of a string\n",
    "- based on indexing position we can't replace a string .because string is immutable\n",
    "- based on character/substring we can use replace methode\n"
   ]
  },
  {
   "cell_type": "code",
   "execution_count": 1,
   "id": "814b9f6b",
   "metadata": {},
   "outputs": [
    {
     "ename": "TypeError",
     "evalue": "'str' object does not support item assignment",
     "output_type": "error",
     "traceback": [
      "\u001b[1;31m---------------------------------------------------------------------------\u001b[0m",
      "\u001b[1;31mTypeError\u001b[0m                                 Traceback (most recent call last)",
      "\u001b[1;32m~\\AppData\\Local\\Temp/ipykernel_1348/159102398.py\u001b[0m in \u001b[0;36m<module>\u001b[1;34m\u001b[0m\n\u001b[0;32m      1\u001b[0m \u001b[0mstring\u001b[0m\u001b[1;33m=\u001b[0m\u001b[1;34m\"weLcome\"\u001b[0m\u001b[1;33m\u001b[0m\u001b[1;33m\u001b[0m\u001b[0m\n\u001b[1;32m----> 2\u001b[1;33m \u001b[0mstring\u001b[0m\u001b[1;33m[\u001b[0m\u001b[1;36m2\u001b[0m\u001b[1;33m]\u001b[0m\u001b[1;33m=\u001b[0m\u001b[1;34m'l'\u001b[0m\u001b[1;33m\u001b[0m\u001b[1;33m\u001b[0m\u001b[0m\n\u001b[0m",
      "\u001b[1;31mTypeError\u001b[0m: 'str' object does not support item assignment"
     ]
    }
   ],
   "source": [
    "string=\"weLcome\"\n",
    "string[2]='l'"
   ]
  },
  {
   "cell_type": "code",
   "execution_count": 4,
   "id": "b7fe51e6",
   "metadata": {},
   "outputs": [
    {
     "data": {
      "text/plain": [
       "'welcome'"
      ]
     },
     "execution_count": 4,
     "metadata": {},
     "output_type": "execute_result"
    }
   ],
   "source": [
    "string[:2]+\"l\"+string[3:] # we can assign/replace  value by using slicing "
   ]
  },
  {
   "cell_type": "code",
   "execution_count": 5,
   "id": "5e8115c0",
   "metadata": {},
   "outputs": [
    {
     "data": {
      "text/plain": [
       "'welcome'"
      ]
     },
     "execution_count": 5,
     "metadata": {},
     "output_type": "execute_result"
    }
   ],
   "source": [
    "string.replace('L','l') # we can replace value by using replace methode"
   ]
  },
  {
   "cell_type": "code",
   "execution_count": 6,
   "id": "36cb8dca",
   "metadata": {},
   "outputs": [
    {
     "data": {
      "text/plain": [
       "'res$ar$'"
      ]
     },
     "execution_count": 6,
     "metadata": {},
     "output_type": "execute_result"
    }
   ],
   "source": [
    "str1='restart'\n",
    "str1.replace('t','$') # replace methode will replace all the charactrs occurance"
   ]
  },
  {
   "cell_type": "code",
   "execution_count": 8,
   "id": "36b05ebd",
   "metadata": {},
   "outputs": [
    {
     "data": {
      "text/plain": [
       "'res$art'"
      ]
     },
     "execution_count": 8,
     "metadata": {},
     "output_type": "execute_result"
    }
   ],
   "source": [
    "str1.replace('t','$',1) # here 1 we providing it will replace on 1st occurance"
   ]
  },
  {
   "cell_type": "code",
   "execution_count": 27,
   "id": "d19841e0",
   "metadata": {},
   "outputs": [
    {
     "data": {
      "text/plain": [
       "'r'"
      ]
     },
     "execution_count": 27,
     "metadata": {},
     "output_type": "execute_result"
    }
   ],
   "source": [
    "# but i want to replace the 2nd 'r' for that we use string concatination\n",
    "\n",
    "r1=str1[:1]\n",
    "r1"
   ]
  },
  {
   "cell_type": "code",
   "execution_count": 28,
   "id": "5d0b3581",
   "metadata": {},
   "outputs": [
    {
     "data": {
      "text/plain": [
       "'estart'"
      ]
     },
     "execution_count": 28,
     "metadata": {},
     "output_type": "execute_result"
    }
   ],
   "source": [
    "r2=str1[1:]\n",
    "r2"
   ]
  },
  {
   "cell_type": "code",
   "execution_count": 29,
   "id": "4f76169a",
   "metadata": {},
   "outputs": [
    {
     "data": {
      "text/plain": [
       "'esta$t'"
      ]
     },
     "execution_count": 29,
     "metadata": {},
     "output_type": "execute_result"
    }
   ],
   "source": [
    "r3=r2.replace('r','$',1)\n",
    "r3\n"
   ]
  },
  {
   "cell_type": "code",
   "execution_count": 30,
   "id": "15d807cb",
   "metadata": {},
   "outputs": [
    {
     "name": "stdout",
     "output_type": "stream",
     "text": [
      "resta$t\n"
     ]
    }
   ],
   "source": [
    "print(r1+r3)"
   ]
  },
  {
   "cell_type": "code",
   "execution_count": 37,
   "id": "d88dd7a7",
   "metadata": {},
   "outputs": [
    {
     "name": "stdout",
     "output_type": "stream",
     "text": [
      "resta$t\n"
     ]
    }
   ],
   "source": [
    "print(str1[:1]+str1[1:].replace('r','$',1)) # in a single line"
   ]
  },
  {
   "cell_type": "markdown",
   "id": "9d356d4a",
   "metadata": {},
   "source": [
    "# - count"
   ]
  },
  {
   "cell_type": "markdown",
   "id": "49f4a73a",
   "metadata": {},
   "source": [
    "- string methode count is used to find out how many times a particular substring or character appears in a text.\n",
    "- when we want to perform certain operations based on the frequency of a substring within a string.\n"
   ]
  },
  {
   "cell_type": "markdown",
   "id": "5149e854",
   "metadata": {},
   "source": [
    "# - syntax\n",
    "   - string.count(substring,start,end)\n",
    "    - start and end is optional when ever we want to count a range of sub string we will provide start and end"
   ]
  },
  {
   "cell_type": "code",
   "execution_count": 38,
   "id": "6b82aac4",
   "metadata": {},
   "outputs": [
    {
     "data": {
      "text/plain": [
       "2"
      ]
     },
     "execution_count": 38,
     "metadata": {},
     "output_type": "execute_result"
    }
   ],
   "source": [
    "str1='hey how are you my name is Bikash hey'\n",
    "str1.count('hey')"
   ]
  },
  {
   "cell_type": "code",
   "execution_count": 39,
   "id": "8cb5b43b",
   "metadata": {},
   "outputs": [
    {
     "data": {
      "text/plain": [
       "2"
      ]
     },
     "execution_count": 39,
     "metadata": {},
     "output_type": "execute_result"
    }
   ],
   "source": [
    "str1.count('o')"
   ]
  },
  {
   "cell_type": "code",
   "execution_count": 41,
   "id": "0ce087b6",
   "metadata": {},
   "outputs": [
    {
     "data": {
      "text/plain": [
       "3"
      ]
     },
     "execution_count": 41,
     "metadata": {},
     "output_type": "execute_result"
    }
   ],
   "source": [
    "str1.count('a')"
   ]
  },
  {
   "cell_type": "code",
   "execution_count": 42,
   "id": "ad8562b9",
   "metadata": {},
   "outputs": [
    {
     "data": {
      "text/plain": [
       "0"
      ]
     },
     "execution_count": 42,
     "metadata": {},
     "output_type": "execute_result"
    }
   ],
   "source": [
    "str1.count('b') # python is case sensitive"
   ]
  },
  {
   "cell_type": "markdown",
   "id": "6e5c3096",
   "metadata": {},
   "source": [
    "# - splite\n",
    "\n",
    "  - splite methode in string is used to splite a string into list of substring based on specific delimeter\n",
    "  - string.split(sep=None, maxsplit=-1)\n",
    "\n",
    "\n",
    "- sep (default)\n",
    "    - The delimiter according which to split the string.\n",
    "    - None (the default value) means split according to any whitespace,\n",
    "  and discard empty strings from the result.\n",
    "  \n",
    "- maxsplit(default)\n",
    "    -  Maximum number of splits to do.\n",
    "     - -1 (the default value) means no limit."
   ]
  },
  {
   "cell_type": "code",
   "execution_count": 44,
   "id": "1d740b5e",
   "metadata": {},
   "outputs": [
    {
     "data": {
      "text/plain": [
       "['hey', 'how', 'are', 'you']"
      ]
     },
     "execution_count": 44,
     "metadata": {},
     "output_type": "execute_result"
    }
   ],
   "source": [
    "str1='hey how are you'\n",
    "str1.split() # nothoing mentioned it will take space"
   ]
  },
  {
   "cell_type": "code",
   "execution_count": 48,
   "id": "dcc4df29",
   "metadata": {},
   "outputs": [
    {
     "data": {
      "text/plain": [
       "['hey how ', 're you']"
      ]
     },
     "execution_count": 48,
     "metadata": {},
     "output_type": "execute_result"
    }
   ],
   "source": [
    "str1='hey how are you'\n",
    "str1.split('a')"
   ]
  },
  {
   "cell_type": "code",
   "execution_count": 50,
   "id": "7c4da185",
   "metadata": {},
   "outputs": [
    {
     "data": {
      "text/plain": [
       "['hey h', 'w are y', 'u']"
      ]
     },
     "execution_count": 50,
     "metadata": {},
     "output_type": "execute_result"
    }
   ],
   "source": [
    "str1='hey how are you'\n",
    "str1.split('o')"
   ]
  },
  {
   "cell_type": "markdown",
   "id": "20d74583",
   "metadata": {},
   "source": [
    "# - strips- lstrip - rstrip\n",
    "    "
   ]
  },
  {
   "cell_type": "markdown",
   "id": "a97778fd",
   "metadata": {},
   "source": [
    "# - strip\n",
    "\n",
    "   - Return a copy of the string with leading and trailing whitespace removed.\n",
    "\n",
    "   - If chars is given and not None, remove characters in chars instead."
   ]
  },
  {
   "cell_type": "code",
   "execution_count": 6,
   "id": "636861d5",
   "metadata": {},
   "outputs": [
    {
     "name": "stdout",
     "output_type": "stream",
     "text": [
      "Bikash\n",
      " @ Biksh \n",
      "bikash\n"
     ]
    }
   ],
   "source": [
    "string=' Bikash '\n",
    "string1=' @ Biksh '\n",
    "string2='@bikash@'\n",
    "\n",
    "print(string.strip())\n",
    "print(string1.strip('@'))\n",
    "print(string2.strip('@'))\n"
   ]
  },
  {
   "cell_type": "code",
   "execution_count": 7,
   "id": "f2aef46d",
   "metadata": {},
   "outputs": [
    {
     "data": {
      "text/plain": [
       "'Bikash'"
      ]
     },
     "execution_count": 7,
     "metadata": {},
     "output_type": "execute_result"
    }
   ],
   "source": [
    "string.strip()"
   ]
  },
  {
   "cell_type": "code",
   "execution_count": 8,
   "id": "d7c8a21c",
   "metadata": {},
   "outputs": [
    {
     "data": {
      "text/plain": [
       "' @ Biksh '"
      ]
     },
     "execution_count": 8,
     "metadata": {},
     "output_type": "execute_result"
    }
   ],
   "source": [
    "string1.strip('@') # here in string1 both sides has space so it will not strip @"
   ]
  },
  {
   "cell_type": "code",
   "execution_count": 9,
   "id": "b6351f62",
   "metadata": {},
   "outputs": [
    {
     "data": {
      "text/plain": [
       "'@ Biksh'"
      ]
     },
     "execution_count": 9,
     "metadata": {},
     "output_type": "execute_result"
    }
   ],
   "source": [
    "string1.strip() # it strips spacese of both sides"
   ]
  },
  {
   "cell_type": "code",
   "execution_count": 10,
   "id": "01369762",
   "metadata": {},
   "outputs": [
    {
     "data": {
      "text/plain": [
       "'bikash'"
      ]
     },
     "execution_count": 10,
     "metadata": {},
     "output_type": "execute_result"
    }
   ],
   "source": [
    "string2.strip('@')"
   ]
  },
  {
   "cell_type": "markdown",
   "id": "923be448",
   "metadata": {},
   "source": [
    "# lstrip\n",
    "\n",
    "  - Return a copy of the string with leading whitespace removed from left side.\n",
    "\n",
    "  - If chars is given and not None, remove characters in chars instead.\n",
    "  - syntax\n",
    "      - str.lstrip(self, chars=None, /)\n"
   ]
  },
  {
   "cell_type": "code",
   "execution_count": 11,
   "id": "fbb1a3b3",
   "metadata": {},
   "outputs": [
    {
     "data": {
      "text/plain": [
       "'Bikash '"
      ]
     },
     "execution_count": 11,
     "metadata": {},
     "output_type": "execute_result"
    }
   ],
   "source": [
    "string.lstrip() # it removes whitespace from left side"
   ]
  },
  {
   "cell_type": "code",
   "execution_count": 12,
   "id": "ab6cf7f4",
   "metadata": {},
   "outputs": [
    {
     "data": {
      "text/plain": [
       "' @ Biksh '"
      ]
     },
     "execution_count": 12,
     "metadata": {},
     "output_type": "execute_result"
    }
   ],
   "source": [
    "\n",
    "\n",
    "\n",
    "string1.lstrip(\"@\") # left side has whitespace so it is not removing @"
   ]
  },
  {
   "cell_type": "code",
   "execution_count": 13,
   "id": "cf4096a8",
   "metadata": {},
   "outputs": [
    {
     "data": {
      "text/plain": [
       "'bikash@'"
      ]
     },
     "execution_count": 13,
     "metadata": {},
     "output_type": "execute_result"
    }
   ],
   "source": [
    "string2.lstrip('@') # it removes @ from left side"
   ]
  },
  {
   "cell_type": "markdown",
   "id": "d2200942",
   "metadata": {},
   "source": [
    "# rstrip\n",
    "  - Return a copy of the string with trailing whitespace removed from right side.\n",
    "\n",
    "  - If chars is given and not None, remove characters in chars instead.\n",
    "  - syneta\n",
    "  \n",
    "       -  str.rstrip(self, chars=None, /)"
   ]
  },
  {
   "cell_type": "code",
   "execution_count": 15,
   "id": "ca9271df",
   "metadata": {},
   "outputs": [
    {
     "data": {
      "text/plain": [
       "' Bikash'"
      ]
     },
     "execution_count": 15,
     "metadata": {},
     "output_type": "execute_result"
    }
   ],
   "source": [
    "string.rstrip() # it removed whitespace from right side\n",
    "\n"
   ]
  },
  {
   "cell_type": "code",
   "execution_count": 16,
   "id": "b9904fb6",
   "metadata": {},
   "outputs": [
    {
     "data": {
      "text/plain": [
       "' @ Biksh '"
      ]
     },
     "execution_count": 16,
     "metadata": {},
     "output_type": "execute_result"
    }
   ],
   "source": [
    "string1.rstrip('@')"
   ]
  },
  {
   "cell_type": "code",
   "execution_count": 17,
   "id": "bde301d8",
   "metadata": {},
   "outputs": [
    {
     "data": {
      "text/plain": [
       "'@bikash'"
      ]
     },
     "execution_count": 17,
     "metadata": {},
     "output_type": "execute_result"
    }
   ],
   "source": [
    "string2.rstrip(\"@\")"
   ]
  },
  {
   "cell_type": "markdown",
   "id": "c4950222",
   "metadata": {},
   "source": [
    "# - starts with - ends with\n",
    "\n",
    "   - startswith and endswith are built-in string methods that allow you to check whether a given string starts or ends with a specified substring or not \n",
    "   - These methods are used to perform simple prefix and suffix checks on strings\n",
    "   - it always writtens boolean value\n",
    "   - prefix basically the sequance of character/substring that appers in begining\n",
    "   -  sufix is the ending sequance of character/substring.\n",
    "   - syntax\n",
    "   \n",
    "         - String.startswith(prefix[, start[, end]])"
   ]
  },
  {
   "cell_type": "code",
   "execution_count": 19,
   "id": "04c9501d",
   "metadata": {},
   "outputs": [
    {
     "data": {
      "text/plain": [
       "True"
      ]
     },
     "execution_count": 19,
     "metadata": {},
     "output_type": "execute_result"
    }
   ],
   "source": [
    "string='hey how are you '\n",
    "string.startswith('hey')"
   ]
  },
  {
   "cell_type": "code",
   "execution_count": 20,
   "id": "368ed7d1",
   "metadata": {},
   "outputs": [
    {
     "data": {
      "text/plain": [
       "False"
      ]
     },
     "execution_count": 20,
     "metadata": {},
     "output_type": "execute_result"
    }
   ],
   "source": [
    "string.startswith('how')"
   ]
  },
  {
   "cell_type": "code",
   "execution_count": 21,
   "id": "aea6d6e4",
   "metadata": {},
   "outputs": [
    {
     "data": {
      "text/plain": [
       "False"
      ]
     },
     "execution_count": 21,
     "metadata": {},
     "output_type": "execute_result"
    }
   ],
   "source": [
    "string.endswith('you')"
   ]
  },
  {
   "cell_type": "code",
   "execution_count": 22,
   "id": "870c60ae",
   "metadata": {},
   "outputs": [
    {
     "data": {
      "text/plain": [
       "True"
      ]
     },
     "execution_count": 22,
     "metadata": {},
     "output_type": "execute_result"
    }
   ],
   "source": [
    "string.endswith('')"
   ]
  },
  {
   "cell_type": "markdown",
   "id": "e2289f69",
   "metadata": {},
   "source": [
    "# there are many string methodes are present in the string we can explore own self like\n",
    "- isaplha-This method checks whether all the characters in a string are alphabetic (letters).\n",
    "\n",
    "- isnumeric-This method checks whether all the characters in a string are numeric digits (0-9).\n",
    "\n",
    "- isalnum-This method checks whether all the characters in a string are either alphabetic (letters) or numeric digits\n",
    "\n",
    "- isupper-This method checks whether all the alphabetic characters in a string are in uppercase (capital letters).\n",
    "\n",
    "- islower-This method checks whether all the alphabetic characters in a string are in lowercase.\n",
    "\n",
    "- isdecimal-This method checks whether all characters in a string are decimal digits (0-9).\n",
    "\n",
    "- isdigit-This method is similar to isnumeric(), but it specifically checks if all characters in the string are numeric digits (0-9)\n",
    "\n"
   ]
  },
  {
   "cell_type": "code",
   "execution_count": null,
   "id": "28ed4d1c",
   "metadata": {},
   "outputs": [],
   "source": []
  }
 ],
 "metadata": {
  "kernelspec": {
   "display_name": "Python 3 (ipykernel)",
   "language": "python",
   "name": "python3"
  },
  "language_info": {
   "codemirror_mode": {
    "name": "ipython",
    "version": 3
   },
   "file_extension": ".py",
   "mimetype": "text/x-python",
   "name": "python",
   "nbconvert_exporter": "python",
   "pygments_lexer": "ipython3",
   "version": "3.9.7"
  }
 },
 "nbformat": 4,
 "nbformat_minor": 5
}
